{
 "metadata": {
  "language_info": {
   "codemirror_mode": {
    "name": "ipython",
    "version": 3
   },
   "file_extension": ".py",
   "mimetype": "text/x-python",
   "name": "python",
   "nbconvert_exporter": "python",
   "pygments_lexer": "ipython3",
   "version": "3.7.4"
  },
  "orig_nbformat": 2,
  "kernelspec": {
   "name": "python374jvsc74a57bd0dc80bb1bc61bcff7811bc2b76c764cd48e603c2d7f79fcb5f1c693fe35c61f1e",
   "display_name": "Python 3.7.4 64-bit ('base': conda)"
  }
 },
 "nbformat": 4,
 "nbformat_minor": 2,
 "cells": [
  {
   "cell_type": "code",
   "execution_count": 1,
   "metadata": {},
   "outputs": [],
   "source": [
    "import numpy as np\n",
    "import matplotlib.pyplot as plt\n",
    "from matplotlib import animation\n",
    "from matplotlib import colors\n",
    "\n",
    "%matplotlib widget"
   ]
  },
  {
   "cell_type": "code",
   "execution_count": 2,
   "metadata": {},
   "outputs": [],
   "source": [
    "neighborhood = ((-1,-1), (-1,0), (-1,1), (0,-1), (0, 1), (1,-1), (1,0), (1,1))\n",
    "\n",
    "EMPTY, TREE, FIRE, WATER, CHARRED = 0, 1, 2, 3, 4\n",
    "colors_list = [(0.2,0,0), (0,0.5,0), (1,0.3,0.1), (0.3,0.4,1), (0.3,0.4,0.5), 'grey']\n",
    "cmap = colors.ListedColormap(colors_list)\n",
    "bounds = [0,1,2,3,4,5]\n",
    "norm = colors.BoundaryNorm(bounds, cmap.N)"
   ]
  },
  {
   "cell_type": "code",
   "execution_count": 3,
   "metadata": {},
   "outputs": [],
   "source": [
    "def rules(X): \n",
    "    X1 = np.zeros((ny, nx))\n",
    "\n",
    "    for ix in range(1,nx-1):\n",
    "         for iy in range(1,ny-1):\n",
    "             if X[iy,ix] == EMPTY and np.random.random() <= tree_growth:\n",
    "                 X1[iy,ix] = TREE\n",
    "             if X[iy,ix] == EMPTY and np.random.random() <= rain:\n",
    "                X1[iy,ix] = WATER\n",
    "                if anim.event_source.interval < 300:\n",
    "                    anim.event_source.interval+=25\n",
    "                else:\n",
    "                    if X[iy,ix] == FIRE:\n",
    "                        X1[iy,ix] = CHARRED\n",
    "                    anim.event_source.stop()\n",
    "                 \n",
    "\n",
    "\n",
    "             if X[iy,ix] == TREE:\n",
    "                 X1[iy,ix] = TREE\n",
    "\n",
    "                 for dx,dy in neighborhood:\n",
    "                     if X[iy+dy,ix+dx] == FIRE:\n",
    "                         X1[iy,ix] = FIRE\n",
    "                         break\n",
    "                 else:\n",
    "                    if np.random.random() <= lightning_strike:\n",
    "                        X1[iy,ix] = FIRE\n",
    "    return X1"
   ]
  },
  {
   "cell_type": "code",
   "execution_count": 4,
   "metadata": {},
   "outputs": [],
   "source": [
    "forest_fraction = 0.5\n",
    "\n",
    "tree_growth, lightning_strike, rain = 0.05, 0.001, 0.00001\n",
    "\n",
    "nx, ny = 100, 100\n",
    "\n",
    "X = np.zeros((ny, nx))\n",
    "\n",
    "X[1:ny-1, 1:nx-1] = np.random.randint(0, 2, size=(ny-2, nx-2))\n",
    "X[1:ny-1, 1:nx-1] = np.random.random(size=(ny-2, nx-2)) < forest_fraction"
   ]
  },
  {
   "cell_type": "code",
   "execution_count": 5,
   "metadata": {},
   "outputs": [
    {
     "output_type": "display_data",
     "data": {
      "text/plain": "<Figure size 600x450 with 1 Axes>",
      "image/svg+xml": "<?xml version=\"1.0\" encoding=\"utf-8\" standalone=\"no\"?>\r\n<!DOCTYPE svg PUBLIC \"-//W3C//DTD SVG 1.1//EN\"\r\n  \"http://www.w3.org/Graphics/SVG/1.1/DTD/svg11.dtd\">\r\n<!-- Created with matplotlib (https://matplotlib.org/) -->\r\n<svg height=\"354.15pt\" version=\"1.1\" viewBox=\"0 0 354.15 354.15\" width=\"354.15pt\" xmlns=\"http://www.w3.org/2000/svg\" xmlns:xlink=\"http://www.w3.org/1999/xlink\">\r\n <defs>\r\n  <style type=\"text/css\">\r\n*{stroke-linecap:butt;stroke-linejoin:round;}\r\n  </style>\r\n </defs>\r\n <g id=\"figure_1\">\r\n  <g id=\"patch_1\">\r\n   <path d=\"M 0 354.15 \r\nL 354.15 354.15 \r\nL 354.15 0 \r\nL 0 0 \r\nz\r\n\" style=\"fill:none;\"/>\r\n  </g>\r\n  <g id=\"axes_1\">\r\n   <g clip-path=\"url(#p4cda58ec0a)\">\r\n    <image height=\"340\" id=\"image2cb52ac028\" transform=\"scale(1 -1)translate(0 -340)\" width=\"340\" x=\"7.2\" xlink:href=\"data:image/png;base64,\r\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\" y=\"-6.95\"/>\r\n   </g>\r\n  </g>\r\n </g>\r\n <defs>\r\n  <clipPath id=\"p4cda58ec0a\">\r\n   <rect height=\"339.75\" width=\"339.75\" x=\"7.2\" y=\"7.2\"/>\r\n  </clipPath>\r\n </defs>\r\n</svg>\r\n",
      "image/png": "[encoded data removed]"
     },
     "metadata": {
      "needs_background": "light"
     }
    }
   ],
   "source": [
    "fig = plt.figure(figsize=(25/3, 6.25))\n",
    "ax = fig.add_subplot(111)\n",
    "ax.set_axis_off()\n",
    "\n",
    "\n",
    "im = ax.imshow(X, cmap=cmap, norm=norm)\n",
    "\n",
    "def animate(i):\n",
    "     im.set_data(animate.X)\n",
    "     animate.X = rules(animate.X)\n",
    "\n",
    "\n",
    "animate.X = X\n",
    "\n",
    "interval = 100\n",
    "anim = animation.FuncAnimation(fig, animate, interval=interval)\n",
    "\n",
    "plt.show()"
   ]
  },
  {
   "cell_type": "code",
   "execution_count": 6,
   "metadata": {},
   "outputs": [],
   "source": [
    "  # writervideo = animation.FFMpegWriter() \n",
    "  # anim.save('C://Users//ajord/Downloads//forest_fire_humidity.mp4',writer=writervideo)"
   ]
  }
 ]
}