{
 "metadata": {
  "language_info": {
   "codemirror_mode": {
    "name": "ipython",
    "version": 3
   },
   "file_extension": ".py",
   "mimetype": "text/x-python",
   "name": "python",
   "nbconvert_exporter": "python",
   "pygments_lexer": "ipython3",
   "version": "3.7.4"
  },
  "orig_nbformat": 2,
  "kernelspec": {
   "name": "python374jvsc74a57bd0dc80bb1bc61bcff7811bc2b76c764cd48e603c2d7f79fcb5f1c693fe35c61f1e",
   "display_name": "Python 3.7.4 64-bit ('base': conda)"
  }
 },
 "nbformat": 4,
 "nbformat_minor": 2,
 "cells": [
  {
   "cell_type": "code",
   "execution_count": 1,
   "metadata": {},
   "outputs": [],
   "source": [
    "import numpy as np\n",
    "import matplotlib.pyplot as plt\n",
    "from matplotlib import animation\n",
    "from matplotlib import colors\n",
    "\n",
    "%matplotlib widget"
   ]
  },
  {
   "cell_type": "code",
   "execution_count": 2,
   "metadata": {},
   "outputs": [],
   "source": [
    "neighborhood = ((-1,-1), (-1,0), (-1,1), (0,-1), (0, 1), (1,-1), (1,0), (1,1))\n",
    "\n",
    "EMPTY, TREE, FIRE = 0, 1, 2\n",
    "colors_list = [(0.2,0,0), (0,0.5,0), (1,0,0), 'orange']\n",
    "cmap = colors.ListedColormap(colors_list)\n",
    "bounds = [0,1,2,3]\n",
    "norm = colors.BoundaryNorm(bounds, cmap.N)"
   ]
  },
  {
   "cell_type": "code",
   "execution_count": 3,
   "metadata": {},
   "outputs": [],
   "source": [
    "def firerules(X): \n",
    "    X1 = np.zeros((ny, nx))\n",
    "\n",
    "    for ix in range(1,nx-1):\n",
    "         for iy in range(1,ny-1):\n",
    "             if X[iy,ix] == EMPTY and np.random.random() <= p:\n",
    "                 X1[iy,ix] = TREE\n",
    "\n",
    "             if X[iy,ix] == TREE:\n",
    "                 X1[iy,ix] = TREE\n",
    "\n",
    "                 for dx,dy in neighborhood:\n",
    "                     if X[iy+dy,ix+dx] == FIRE:\n",
    "                         X1[iy,ix] = FIRE\n",
    "                         break\n",
    "                 else:\n",
    "                    if np.random.random() <= f:\n",
    "                        X1[iy,ix] = FIRE\n",
    "    return X1"
   ]
  },
  {
   "cell_type": "code",
   "execution_count": 4,
   "metadata": {},
   "outputs": [],
   "source": [
    "forest_fraction = 0.2\n",
    "\n",
    "\n",
    "p, f = 0.05, 0.001\n",
    "\n",
    "nx, ny = 100, 100\n",
    "\n",
    "\n",
    "X = np.zeros((ny, nx))\n",
    "\n",
    "\n",
    "X[1:ny-1, 1:nx-1] = np.random.randint(0, 2, size=(ny-2, nx-2))\n",
    "X[1:ny-1, 1:nx-1] = np.random.random(size=(ny-2, nx-2)) < forest_fraction"
   ]
  },
  {
   "cell_type": "code",
   "execution_count": 5,
   "metadata": {},
   "outputs": [
    {
     "output_type": "display_data",
     "data": {
      "text/plain": "<Figure size 600x450 with 1 Axes>",
      "image/svg+xml": "<?xml version=\"1.0\" encoding=\"utf-8\" standalone=\"no\"?>\r\n<!DOCTYPE svg PUBLIC \"-//W3C//DTD SVG 1.1//EN\"\r\n  \"http://www.w3.org/Graphics/SVG/1.1/DTD/svg11.dtd\">\r\n<!-- Created with matplotlib (https://matplotlib.org/) -->\r\n<svg height=\"354.15pt\" version=\"1.1\" viewBox=\"0 0 354.15 354.15\" width=\"354.15pt\" xmlns=\"http://www.w3.org/2000/svg\" xmlns:xlink=\"http://www.w3.org/1999/xlink\">\r\n <defs>\r\n  <style type=\"text/css\">\r\n*{stroke-linecap:butt;stroke-linejoin:round;}\r\n  </style>\r\n </defs>\r\n <g id=\"figure_1\">\r\n  <g id=\"patch_1\">\r\n   <path d=\"M 0 354.15 \r\nL 354.15 354.15 \r\nL 354.15 0 \r\nL 0 0 \r\nz\r\n\" style=\"fill:none;\"/>\r\n  </g>\r\n  <g id=\"axes_1\">\r\n   <g clip-path=\"url(#pf58e2a01b3)\">\r\n    <image height=\"340\" id=\"image4f6bf49a15\" transform=\"scale(1 -1)translate(0 -340)\" width=\"340\" x=\"7.2\" xlink:href=\"data:image/png;base64,\r\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\" y=\"-6.95\"/>\r\n   </g>\r\n  </g>\r\n </g>\r\n <defs>\r\n  <clipPath id=\"pf58e2a01b3\">\r\n   <rect height=\"339.75\" width=\"339.75\" x=\"7.2\" y=\"7.2\"/>\r\n  </clipPath>\r\n </defs>\r\n</svg>\r\n",
      "image/png": "[encoded data removed]"
     },
     "metadata": {
      "needs_background": "light"
     }
    }
   ],
   "source": [
    "fig = plt.figure(figsize=(25/3, 6.25))\n",
    "ax = fig.add_subplot(111)\n",
    "ax.set_axis_off()\n",
    "\n",
    "\n",
    "im = ax.imshow(X, cmap=cmap, norm=norm)\n",
    "\n",
    "def animate(i):\n",
    "     im.set_data(animate.X)\n",
    "     animate.X = firerules(animate.X)\n",
    "\n",
    "\n",
    "animate.X = X\n",
    "\n",
    "interval = 100\n",
    "\n",
    "\n",
    "anim = animation.FuncAnimation(fig, animate, interval=interval)\n",
    "#anim.save(\"forest_fire.mp4\")\n",
    "\n",
    "plt.show()"
   ]
  },
  {
   "cell_type": "code",
   "execution_count": null,
   "metadata": {},
   "outputs": [],
   "source": [
    "anim.event_source.stop()\n",
    "# self.anim.event_source.interval = 100./self.speed"
   ]
  }
 ]
}