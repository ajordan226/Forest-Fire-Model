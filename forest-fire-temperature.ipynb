{
 "metadata": {
  "language_info": {
   "codemirror_mode": {
    "name": "ipython",
    "version": 3
   },
   "file_extension": ".py",
   "mimetype": "text/x-python",
   "name": "python",
   "nbconvert_exporter": "python",
   "pygments_lexer": "ipython3",
   "version": "3.7.4"
  },
  "orig_nbformat": 2,
  "kernelspec": {
   "name": "python374jvsc74a57bd0dc80bb1bc61bcff7811bc2b76c764cd48e603c2d7f79fcb5f1c693fe35c61f1e",
   "display_name": "Python 3.7.4 64-bit ('base': conda)"
  }
 },
 "nbformat": 4,
 "nbformat_minor": 2,
 "cells": [
  {
   "cell_type": "code",
   "execution_count": 24,
   "metadata": {},
   "outputs": [],
   "source": [
    "import numpy as np\n",
    "import matplotlib.pyplot as plt\n",
    "from matplotlib import animation\n",
    "from matplotlib import colors\n",
    "\n",
    "%matplotlib widget"
   ]
  },
  {
   "cell_type": "code",
   "execution_count": 25,
   "metadata": {},
   "outputs": [],
   "source": [
    "neighborhood = ((-1,-1), (-1,0), (-1,1), (0,-1), (0, 1), (1,-1), (1,0), (1,1))\n",
    "\n",
    "EMPTY, TREE, FIRE, FLAME, BLAZE, WILDFIRE = 0, 1, 2, 3, 4, 5\n",
    "colors_list = [(0.2,0,0), (0,0.5,0), (1,0.3,0.1), (1,0,0), (0.7,0,1), (0.3,0.4,1), 'blue']\n",
    "cmap = colors.ListedColormap(colors_list)\n",
    "bounds = [0,1,2,3,4,5,6]\n",
    "norm = colors.BoundaryNorm(bounds, cmap.N)"
   ]
  },
  {
   "cell_type": "code",
   "execution_count": 26,
   "metadata": {},
   "outputs": [],
   "source": [
    "def rules(X): \n",
    "    X1 = np.zeros((ny, nx))\n",
    "    if anim.event_source.interval >= 100:\n",
    "       anim.event_source.interval -= 10\n",
    "\n",
    "    for ix in range(1,nx-1):\n",
    "         for iy in range(1,ny-1):\n",
    "             if X[iy,ix] == EMPTY and np.random.random() <= tree_growth:\n",
    "                 X1[iy,ix] = TREE\n",
    "\n",
    "             if X[iy,ix] == TREE:\n",
    "                 X1[iy,ix] = TREE\n",
    "                 for dx,dy in neighborhood:\n",
    "                     if X[iy+dy,ix+dx] == FIRE:\n",
    "                         X1[iy,ix] = FIRE \n",
    "                         break\n",
    "                     if X[iy+dy,ix+dx] == FLAME:\n",
    "                         X1[iy,ix] = FLAME \n",
    "                         break\n",
    "                     if X[iy+dy,ix+dx] == BLAZE:\n",
    "                         X1[iy,ix] = BLAZE \n",
    "                         break\n",
    "                     if X[iy+dy,ix+dx] == WILDFIRE:\n",
    "                         X1[iy,ix] = WILDFIRE\n",
    "                         break\n",
    "                 else:\n",
    "                    if np.random.random() <= lightning_strike:\n",
    "                        if anim.event_source.interval <= 200:\n",
    "                            X1[iy,ix] = WILDFIRE\n",
    "                        elif anim.event_source.interval > 200 and anim.event_source.interval < 500:\n",
    "                            X1[iy,ix] = BLAZE\n",
    "                        elif anim.event_source.interval > 500 and anim.event_source.interval < 800:\n",
    "                            X1[iy,ix] = FLAME\n",
    "                        else:\n",
    "                            X1[iy,ix] = FIRE\n",
    "            \n",
    "    return X1"
   ]
  },
  {
   "cell_type": "code",
   "execution_count": 27,
   "metadata": {},
   "outputs": [],
   "source": [
    "forest_fraction = 0.5\n",
    "\n",
    "tree_growth, lightning_strike = 0.05, 0.001\n",
    "\n",
    "nx, ny = 100, 100\n",
    "\n",
    "X = np.zeros((ny, nx))\n",
    "\n",
    "X[1:ny-1, 1:nx-1] = np.random.randint(0, 2, size=(ny-2, nx-2))\n",
    "X[1:ny-1, 1:nx-1] = np.random.random(size=(ny-2, nx-2)) < forest_fraction"
   ]
  },
  {
   "cell_type": "code",
   "execution_count": 28,
   "metadata": {},
   "outputs": [
    {
     "output_type": "display_data",
     "data": {
      "text/plain": "FigureCanvasNbAgg()",
      "application/vnd.jupyter.widget-view+json": {
       "version_major": 2,
       "version_minor": 0,
       "model_id": "7b5f7c3181e940b5b2a3d4b33d137802"
      }
     },
     "metadata": {}
    }
   ],
   "source": [
    "fig = plt.figure(figsize=(25/3, 6.25))\n",
    "ax = fig.add_subplot(111)\n",
    "ax.set_axis_off()\n",
    "\n",
    "im = ax.imshow(X, cmap=cmap, norm=norm)\n",
    "\n",
    "def animate(i):\n",
    "     im.set_data(animate.X)\n",
    "     animate.X = rules(animate.X)\n",
    "\n",
    "animate.X = X\n",
    "\n",
    "interval = 1000\n",
    "anim = animation.FuncAnimation(fig, animate, interval=interval)\n",
    "\n",
    "plt.show()"
   ]
  },
  {
   "cell_type": "code",
   "execution_count": 29,
   "metadata": {},
   "outputs": [],
   "source": [
    "anim.event_source.stop()"
   ]
  },
  {
   "cell_type": "code",
   "execution_count": 30,
   "metadata": {},
   "outputs": [],
   "source": [
    "# writervideo = animation.FFMpegWriter() \n",
    "# anim.save('C://Users//ajord/Downloads//forest_fire_temp.mp4',writer=writervideo)"
   ]
  },
  {
   "cell_type": "code",
   "execution_count": null,
   "metadata": {},
   "outputs": [],
   "source": []
  }
 ]
}