{
 "metadata": {
  "language_info": {
   "codemirror_mode": {
    "name": "ipython",
    "version": 3
   },
   "file_extension": ".py",
   "mimetype": "text/x-python",
   "name": "python",
   "nbconvert_exporter": "python",
   "pygments_lexer": "ipython3",
   "version": "3.7.4"
  },
  "orig_nbformat": 2,
  "kernelspec": {
   "name": "python374jvsc74a57bd0dc80bb1bc61bcff7811bc2b76c764cd48e603c2d7f79fcb5f1c693fe35c61f1e",
   "display_name": "Python 3.7.4 64-bit ('base': conda)"
  }
 },
 "nbformat": 4,
 "nbformat_minor": 2,
 "cells": [
  {
   "cell_type": "code",
   "execution_count": 7,
   "metadata": {},
   "outputs": [],
   "source": [
    "import numpy as np\n",
    "import matplotlib.pyplot as plt\n",
    "from matplotlib import animation\n",
    "from matplotlib import colors\n",
    "\n",
    "%matplotlib widget"
   ]
  },
  {
   "cell_type": "code",
   "execution_count": 8,
   "metadata": {},
   "outputs": [],
   "source": [
    "neighborhood = ((-1,-1), (-1,0), (-1,1), (0,-1), (0, 1), (1,-1), (1,0), (1,1))\n",
    "\n",
    "EMPTY, TREE, FIRE = 0, 1, 2\n",
    "colors_list = [(0.2,0,0), (0,0.5,0), (1,0,0), 'orange']\n",
    "cmap = colors.ListedColormap(colors_list)\n",
    "bounds = [0,1,2,3]\n",
    "norm = colors.BoundaryNorm(bounds, cmap.N)"
   ]
  },
  {
   "cell_type": "code",
   "execution_count": 9,
   "metadata": {},
   "outputs": [],
   "source": [
    "def firerules(X): \n",
    "    X1 = np.zeros((ny, nx))\n",
    "\n",
    "    for ix in range(1,nx-1):\n",
    "         for iy in range(1,ny-1):\n",
    "            if X[iy,ix] == EMPTY and np.random.random() <= p:\n",
    "                 X1[iy,ix] = TREE\n",
    "\n",
    "            if X[iy,ix] == TREE:\n",
    "                 X1[iy,ix] = TREE\n",
    "\n",
    "                 for dx,dy in neighborhood:\n",
    "                     if X[iy+dy,ix+dx] == FIRE:\n",
    "                         X1[iy,ix] = FIRE\n",
    "                         break\n",
    "                 else:\n",
    "                    if np.random.random() <= f:\n",
    "                        X1[iy,ix] = FIRE\n",
    "         return X1"
   ]
  },
  {
   "cell_type": "code",
   "execution_count": 12,
   "metadata": {},
   "outputs": [],
   "source": [
    "# The initial fraction of the forest occupied by trees.\n",
    "forest_fraction = 0.5\n",
    "\n",
    "# p is the probability of a tree growing in an empty cell; f is the probability of \n",
    "# a lightning strike.\n",
    "p, f = 0.05, 0.001\n",
    "\n",
    "# Forest size (number of cells in x and y directions).\n",
    "nx, ny = 100, 100\n",
    "\n",
    "# Initialize the forest grid. X can be thought of as the current state. Make X an \n",
    "# array of 0s.\n",
    "X = np.zeros((ny, nx))\n",
    "\n",
    "# X[1:ny-1, 1:nx-1] grabs the subset of X from indices 1-99 EXCLUDING 99. Since 0 is \n",
    "# the index, this excludes 2 rows and 2 columns (the border). \n",
    "# np.random.randint(0, 2, size=(ny-2, nx-2)) randomly assigns all non-border cells \n",
    "# 0 or 1 (2, the upper limit, is excluded). Since the border (2 rows and 2 columns) \n",
    "# is excluded, size=(ny-2, nx-2).\n",
    "X[1:ny-1, 1:nx-1] = np.random.randint(0, 2, size=(ny-2, nx-2))\n",
    "\n",
    "# This ensures that the number of 1s in the array is below the threshold established \n",
    "# by forest_fraction. Note that random.random normally returns floats between \n",
    "# 0 and 1, but this was initialized with integers in the previous line of code.\n",
    "X[1:ny-1, 1:nx-1] = np.random.random(size=(ny-2, nx-2)) < forest_fraction\n"
   ]
  },
  {
   "cell_type": "code",
   "execution_count": 11,
   "metadata": {},
   "outputs": [
    {
     "output_type": "display_data",
     "data": {
      "text/plain": "FigureCanvasNbAgg()",
      "application/vnd.jupyter.widget-view+json": {
       "version_major": 2,
       "version_minor": 0,
       "model_id": "c97ede1d88304ef2905cf792ccd7435d"
      }
     },
     "metadata": {}
    }
   ],
   "source": [
    "fig = plt.figure(figsize=(25/3, 6.25))\n",
    "ax = fig.add_subplot(111)\n",
    "ax.set_axis_off()\n",
    "\n",
    "im = ax.imshow(X, cmap=cmap, norm=norm) #, interpolation='nearest')\n",
    "\n",
    "def animate(i):\n",
    "     im.set_data(animate.X)\n",
    "     animate.X = firerules(animate.X)\n",
    "\n",
    "\n",
    "animate.X = X\n",
    "\n",
    "interval = 100\n",
    "\n",
    "\n",
    "anim = animation.FuncAnimation(fig, animate, interval=interval)\n",
    "\n",
    "plt.show()"
   ]
  },
  {
   "cell_type": "code",
   "execution_count": null,
   "metadata": {},
   "outputs": [],
   "source": []
  }
 ]
}