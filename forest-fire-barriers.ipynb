{
 "metadata": {
  "language_info": {
   "codemirror_mode": {
    "name": "ipython",
    "version": 3
   },
   "file_extension": ".py",
   "mimetype": "text/x-python",
   "name": "python",
   "nbconvert_exporter": "python",
   "pygments_lexer": "ipython3",
   "version": "3.7.4"
  },
  "orig_nbformat": 2,
  "kernelspec": {
   "name": "python374jvsc74a57bd0dc80bb1bc61bcff7811bc2b76c764cd48e603c2d7f79fcb5f1c693fe35c61f1e",
   "display_name": "Python 3.7.4 64-bit ('base': conda)"
  }
 },
 "nbformat": 4,
 "nbformat_minor": 2,
 "cells": [
  {
   "cell_type": "code",
   "execution_count": 1,
   "metadata": {},
   "outputs": [],
   "source": [
    "import numpy as np\n",
    "import matplotlib.pyplot as plt\n",
    "from matplotlib import animation\n",
    "from matplotlib import colors\n",
    "\n",
    "%matplotlib widget"
   ]
  },
  {
   "cell_type": "code",
   "execution_count": 2,
   "metadata": {},
   "outputs": [],
   "source": [
    "neighborhood = ((-1,-1), (-1,0), (-1,1), (0,-1), (0, 1), (1,-1), (1,0), (1,1))\n",
    "\n",
    "EMPTY, TREE, FIRE, WATER = 0, 1, 2, 3\n",
    "colors_list = [(0.2,0,0), (0,0.5,0), (1,0.3,0.1), 'orange', 'blue']\n",
    "cmap = colors.ListedColormap(colors_list)\n",
    "bounds = [0,1,2,3,4]\n",
    "norm = colors.BoundaryNorm(bounds, cmap.N)"
   ]
  },
  {
   "cell_type": "code",
   "execution_count": 3,
   "metadata": {},
   "outputs": [],
   "source": [
    "def rules(X):    \n",
    "\tX1 = np.zeros((ny, nx))    \n",
    "\tfor ix in range(1,nx-1):         \n",
    "\t\tfor iy in range(1,ny-1):            \n",
    "\t\t\tif X[iy,ix] == WATER:                 \n",
    "\t\t\t\tX1[iy,ix] = WATER            \n",
    "\t\t\tif X[iy,ix] == EMPTY and np.random.random() <= tree_growth:                 \n",
    "\t\t\t\tX1[iy,ix] = TREE            \n",
    "\t\t\tif X[iy,ix] == TREE:                 \n",
    "\t\t\t\tX1[iy,ix] = TREE                                  \n",
    "\t\t\t\tfor dx,dy in neighborhood:                     \n",
    "\t\t\t\t\tif X[iy+dy,ix+dx] == FIRE:                         \n",
    "\t\t\t\t\t\tX1[iy,ix] = FIRE                         \n",
    "\t\t\t\t\t\tbreak                 \n",
    "\t\t\t\telse:                     \n",
    "\t\t\t\t\tif np.random.random() <= lightning_strike:                         \n",
    "\t\t\t\t\t\tX1[iy,ix] = FIRE         \n",
    "\treturn X1"
   ]
  },
  {
   "cell_type": "code",
   "execution_count": 4,
   "metadata": {},
   "outputs": [],
   "source": [
    "forest_fraction = 0.2\n",
    "\n",
    "tree_growth, lightning_strike = 0.05, 0.001\n",
    "\n",
    "nx, ny = 100, 100\n",
    "\n",
    "X = np.zeros((ny, nx))\n",
    "\n",
    "X[1:ny-1, 1:nx-1] = np.random.randint(0, 2, size=(ny-2, nx-2))\n",
    "X[1:ny-1, 1:nx-1] = np.random.random(size=(ny-2, nx-2)) < forest_fraction"
   ]
  },
  {
   "cell_type": "code",
   "execution_count": 5,
   "metadata": {},
   "outputs": [
    {
     "output_type": "display_data",
     "data": {
      "text/plain": "<Figure size 600x450 with 1 Axes>",
      "image/svg+xml": "<?xml version=\"1.0\" encoding=\"utf-8\" standalone=\"no\"?>\r\n<!DOCTYPE svg PUBLIC \"-//W3C//DTD SVG 1.1//EN\"\r\n  \"http://www.w3.org/Graphics/SVG/1.1/DTD/svg11.dtd\">\r\n<!-- Created with matplotlib (https://matplotlib.org/) -->\r\n<svg height=\"354.15pt\" version=\"1.1\" viewBox=\"0 0 354.15 354.15\" width=\"354.15pt\" xmlns=\"http://www.w3.org/2000/svg\" xmlns:xlink=\"http://www.w3.org/1999/xlink\">\r\n <defs>\r\n  <style type=\"text/css\">\r\n*{stroke-linecap:butt;stroke-linejoin:round;}\r\n  </style>\r\n </defs>\r\n <g id=\"figure_1\">\r\n  <g id=\"patch_1\">\r\n   <path d=\"M 0 354.15 \r\nL 354.15 354.15 \r\nL 354.15 0 \r\nL 0 0 \r\nz\r\n\" style=\"fill:none;\"/>\r\n  </g>\r\n  <g id=\"axes_1\">\r\n   <g clip-path=\"url(#p83a6d4b060)\">\r\n    <image height=\"340\" id=\"imagea15011500e\" transform=\"scale(1 -1)translate(0 -340)\" width=\"340\" x=\"7.2\" xlink:href=\"data:image/png;base64,\r\niVBORw0KGgoAAAANSUhEUgAAAVQAAAFUCAYAAAB7ksS1AAAABHNCSVQICAgIfAhkiAAAEppJREFUeJzt3VGS4zayBdDyRO/IC3R4gW9NM59mSU8whLoJJNXn/FWUBFIUlQEkgcQff359/fcLgB/7z+kTAPgUAipAyK/rH//31/d//vl37cGvx7se653zeNVGhdlj7Tyn1WOfPMdK1ffwyvV9fO0drv3oHB8/26vXpe2OT6NjvzoPPVSAEAEVIERABQj545OmTa3kfR7N5mUS+Zyd+b6RxHHvkDOczYPtPI875lBn3vP4vtl7vfr5yeo9MHssPVSAEAEVIOTokP8OQ5+fOjnVI233kHlles5q6iE9xJ1938nPsvr7S/9uq4fhK+ex2p4eKkCIgAoQIqAChEznULtMOXn0O+RhE+4wzWt0vHRes+v9fNUl/57IFY+MpletHPckPVSAEAEVIKR82tSdu/AV596xOhZ5d0ixJKZvrbxu9dh3SC3qoQKECKgAIZEhf3roUH0eiTZ2PoE9uULpnWtwJcWwpnoVUsfvpcuw/mr1uumhAoQIqAAhAipASHkOdSXPVrEyo0tuJiE95eQOebaTTm1KdwddKk91oYcKECKgAoT8uv6RWOlQUXR3dlixcz+o2fbf+Szp4dNsGyenXt3NJ32Wq9XfRJfr0WW6mR4qQIiAChAioAKEbJ02VZHjrMzVVVfPeVRZkehkbrs6n9pl870VFcf61Pz1rNnNDR//l6CHChAioAKE/PH19d/SAtO/oz+//nj5v53TpmZ12YfJiq3vfsfrUZGaWjn2aht6qAAhAipAiCF/gdGQ/26qn/LPphFmtyQeqZ6JcOf9wk4+GR9JzNIY8ZQfoCkBFSBEQAUIkUMtsDOHOpv7Wi0w3aWKT8LOgts7K5o9uvP0qt2rJGfzrapNAWwmoAKEGPIXuA75dw/NuhfG+NSh6tdXn2IxIx3vj+rVgzs/sx4qQIiAChAioAKEyKEWSEybWl1q2SUvdtUxb7p7qWXHQtc7v5fqqWiredJ03lsPFSBEQAUIMeQvMDvkrxgG/bS9UfvVq4tOSlzHU9WmHlXfR68+58kC5ImKZgl6qAAhAipAyK/VJ9Lpwq9Ht4D++U7aL4+9e+h7Km3wSau+Vp/27vwdpK/HO+29eu0d0jyJIumjNvVQAUIEVIAQARUg5I8/v14nEDtWpkl4yof8nc2h3mGTvurC0VcnqwQlCgh/6u/gbmafi6xO4Ut8z3qoACECKkDItyF/12FbtfS0qVGB6fS0pqdjb9z/qMs+9F3usXQBlDusPju551iX++9KDxUgREAFCBFQAUKG06auqvdury4QO2yjMIe6qkte8KprTu/OVZ4q7Mw3d9xEb3dhbktPAQoIqAAh00P+Rzv3yKke0hnyD84jfG2gws6i7iN6qAAhAipAyHRxlEddnmheLc8USA9r//pn+LH7Os3u9zOdbjHk5waqCxJZKQWwmYAKECKgAoREVkqtvO4dnzRtqmOFnGEbcqjcQJffnB4qQIiAChDyK93g6t7Wq212d7KgyJ2vG7wjPcVztT09VIAQARUgREAFCInnUN+R3lCuS4WmqzsUzIW7q97Mb3YZtx4qQIiAChCyXGA6YWeR6lEbX3/3KzB90rfrE742UKHLb04PFSBEQAUIWS6OcrVzuD7b/skC012K3a687snBdEg6JdRxy+NR+48SBYletV+93fTTedzsNzdLDxUgREAFCBFQAUKWp03tzEeNXtexiHIin7Oa/4znpQs3MPz6WsuNju6BR91zqMubJ95gA83hd1Z8X11VfE+v2tdDBQgRUAFCvhVH6VqEY3QemZVS77fBmuriFI9mi5qfKqyTuB6rqj/zqev4TiH72Wsw+1n0UAFCBFSAEAEVIGQ4bWplulJFHrZ6ikjHaVNXJ3PbO6/N7OesqDi2s42TU55WfreJz1k9bep6X538veihAoQIqAAh00P+R5XDsWo7C0xXp0DKh4gH0yGVK5u63qcrq75Gr+ui+jd3XSl18vProQKECKgAIbfbU2q2vUfD1TTNn/I/Wi0U8sqwjYYFpncWKn9052H3yOrqs7sXJErfY3qoACECKkCIgAoQ8i2H2nEFxw5d8jkJ6ZxQ9bU59b1XrAxKn0dFG1un3B3a/LF8ZeXgeuuhAoQIqAAh8T2l3pm2c2oKys6VUqtODs2+fS8Nh/wVxToSdg41EyvHrqqvx87iKO9Y3bvt27EN+QHyBFSAEAEVIOTo0tNXdk/fqtwjvHpJ7aP4PveFVYH+v2P/1O2re93gWCt5x6451BWmTQFsIKAChEwP+btOCfmkyjdXXSoZxdMhRJxcjbfiDlMVE/RQAUIEVICQrU/5ZwtSzG5ZHTuvhkP+Veltgg35e0oUA/nU39zJwjd6qAAhAipAiIAKEPJRm/Qtn0fhSqlHK/mcihzZSOlKKSJmc4Zd3e25xexvSQ8VIERABQj5df3jDkOHRHHhJ+HPmb5u7xS+vb624/dHxmph5Nmpir+j0fWYvT56qAAhAipAiIAKEBKfNlW9z/jqVKNhnulmUzh2svS0p9E91iU32rHAtKWnADchoAKEDIf86SLHXadldRnydxmqXRny95Qe4lan6p5eu3Eft9k4lpiKpocKECKgAoS0fMq/292K3ZYX/03s07U4fLpKF4sZtVG9L1qXtNIpXfeUSv+W9FABQgRUgBABFSAkkkM9mXNL5Nl2TuFIG1bRukhc09H7KnKXlbnit+6PxP29MU//7XVNn2F0zymv/ib0UAFCBFSAkOmVUl2LLKy87ul9TYYf6eu9c3rVo9kVKKfuse37dDW5x17ZPd2x+/VYpYcKECKgAoQIqAAh5dWmVvJns1OBRuehwPS8lVzo4/8S7a+qztF2nzb1dKzAM4f07/bkUtzqZzBXeqgAIQIqQMjySqlX3fs7VD960qTyzU47h0Edz6N6mlDX6kqvVFfwOnk9DPkBbkhABQj5NuSvKIa8onob6bsNx0buUNB796qkn7ZRUny64VPtnXb+5iqK/cxeUz1UgBABFSBEQAUIiW/SN9J2U7rmK6V2rjRabbP6u+1SRPkO1aYSGx9WPz/pnlNevR56qAAhAipASJs9pVbbny3UsHPa1M49pR6tXI/q8xjZWUh7ebgeKOJzt6l5d06znZxKqIcKECKgAoQIqAAh00tPK7yVg3ohMcXnd8hv7Z52VF0d6mrnNegybepknv6Vk0XdZ69H9RRBPVSAEAEVIGTrSqkKd9vvZ6e7F2XeuWJrpf239mFqeI+drErVfeXYKj1UgBABFSDk9kP+FXd/yn91coi78r47FsS+WzGQb8cNbBH+Sdfj6TwCKy095QcoIKAChAioACHTOdTE5niz7VevdHhqs0k+55U75B1nnSwUnd70b6R62tR1ZdDo2LO5wN358e6/uVV6qAAhAipASMtpU7tX5OycNnVqdconpQ1WferKoIopT3cuMP10rHCB+hE9VIAQARUgREAFCPl1/SORizmZszmZI3slUUR79XjXa7A6FW25utLG7yJ9HnfPN6/ccxW/246/x1mr56uHChAioAKExFdKvaPLFKLKaVMnh4+fmkYZqb5PR+62Mujk/fGp10MPFSBEQAUIObqN9FX5yoyG+/1Uz5wYtfHT9h7brF6BUl1UJTKsH7URTiult5Fevb6fOuR/at9KKYC9BFSAEAEVIKRNtalEDmv52E3yOa+uweoKlC5Tnk7mx3fqmKc/aWdOeWcO1SZ9ABsIqAAhW1dK7VxtdYf9bU5Om7rDqqeEU0VanjQc4p70qSkQPVSAEAEVIERABQj5Nfpnl2pQo2O/+t8dcoR3mPJULf05Kwp6z57jOE+fNbvs99En30szqp9b6KEChAioACHxaVO7p+dEiuTebM/0kcpUwVtT0W5WbaraqXts1up3u3rcjtcjsT+WHipAiIAKEDK9jfSs1e2KZ1+3e1vmn9q9rXEiFTN7jVc+y+rwvHoL6Lvtv3VyBdjOa9qFp/wAmwmoACECKkBIeYHpxHSX6vxWegrH7AZqXatvvWrvUZfv79XrfnK8UZsrbXeprtQlV3zn66HANMAGAipAyPKQPz10GKleQdRl+PE7SKwc67LCrGsR8+rPknDn35whP8AGAipAiIAKEDLMoSb2fy/PTTWcwgHV0htB7tYlh5qIcVd6qAAhAipASHyl1PbhuiE/v6G7Tc17miL5d78C0wl6qAAhAipAyHAb6avZbnR1gWlg3mpxm3Rx6OfViXVOpg/1UAFCBFSAEAEVIORogemrxCqq5XyRaVPczaCIeXrlYoUuK6Wu5FABGhFQAULKh/xXif2JZts8ud8PVOsyxH3V3mOb1SulrimQR+npYQpMA2wgoAKECKgAIdNLT2eN8gsV0zQsX4U1J59bVEosfx+9T4FpgA0EVICQb9OmdheHTrfXZRVI2jvTzXZ+L590ve/wORNTfK5G05rSQ+Gn9zVcKZWghwoQIqAChGxdKfWoy1Bq1qlhYfWMhdkVLhVPTxNtVA6F32kjMYSe1TFF8VbK8MZDfiulADYQUAFCBFSAkKM51C5O5eAqRKpvLeRNE3nHxDnN6vr9XZ1c7Vc9jVEOFYAhARUgJDLkTw+fqqfgzLbfdbpSep+u0XlVDzOrj3VqRd/dh+uv2nunzbsN+e0pBdCIgAoQIqAChHwrML2aK0nnhxK5qcQ5lUwXWfjfaj54NSe0M6dcndccbhS38Tx++rp/e+3s63Yuke4i8Txilh4qQIiAChASXym1vVBtw2kxiUpA1WmDkVOrlxLH+uS9xKqny80eN3GvmzYFwJCAChDSsjhKxUqpn7b32GZ1MZBqp4qDJFIPq09mu6QlVtpLtbly7JIVbA2H/Al6qAAhAipAiIAKEPIth1qx/3t6M7QuOchZXXOoVyc3lPtpexVtdvyOHt3tfB91zKEmpubpoQKECKgAIdPTprpMQ1q1MtWmy95QdziPk3tFdWkjobrAylX1tbrbSqmr1YJEeqgAIQIqQIiAChAS36TvZKWone4+dSc9nW1WdaWoioLbK8eq1qX61vJvv2EOVbUpgEYEVICQ4ZC/y3SURMHmV+9ZfV/iPP7tvFba61Jw+2rn3kWn9lP6N+npUCvHXW0z8Xt58ne4yN1f/wz5T6YP9VABQgRUgJBhcZTq7YpXhrhdi42sbAGdPu5I4pru3Ib5nfNY2Sp69V6fdYcZAK/es/q+Lk/5d//mrJQCKCCgAoQIqAAhW6dNPeqS/0w7+ZkrVy8liozv/vyfeo/NSuTYV481vCca5lAVmAZoREAFCIkURxk5NdyrXsl0tz3eux67Y0GYu63EWt0LbvS60Xsi6YFDQ/7E1LwRPVSAEAEVIERABQgpnzZVLVGh6VV7n5y77CK9dLYid17ZXtdjl1eJa1hgOkEPFSBEQAUIWZ42tbOiTVrXfXa6HLvy/CuqPN0tVfI73h9PqZ1wgenVIX/6u9BDBQgRUAFCfl3/SBSYfnR9XZfhWMeh8DvHGv0vseKn0jufpftQvuL6Vl+PyjTKKEY8P+Wv8873ki4erocKECKgAoQIqAAht6g21aWKz8pqnZNTgU620b349MlqZIlCxiuve+fY1XaulJr93r+1N/m6x9fqoQKECKgAIZEhf5dhxNU7eytV7Kez0nbH63jVdSVT9+v29dX/HHfvZb9zpdTOVZ16qAAhAipAiIAKEDKdQ12dwjErPdUjkRPqslnbyc9Srcu1qp7mlS6EPnus6s+yXPj70CZ9IyvTqx5fq4cKECKgAoS03FPqDoWoV/d47/JZrlR5ypzHzmLciTYT6bPVVV/paVNff/0z5K+cBvlv7euhAoQIqAAh8eIod1xNE3lqmdhn56JjQZSu6Yvqc6x8al6dvujynT3quI104vethwoQIqAChAioACHlBaZPOZk7Sqy4uLuVwr1dpjwlpsslVBSYPuVktamd9FABQgRUgJBf1z+2F5mdPNbOaU3Ve59XFut4p/2E2XNcndaUThusFu55ZfV7Wbluq+ex0+gzPxdHqT32q/OoOJbiKAAFBFSAEAEVICReYPodidxXx+WPK69bPfZsPvGTljjech/6cA6/y29iuUh1w6WnI5aeAmwmoAKERFZKVe9N06G91Ta7FAmuaCPhZJWxnW3wXcc9pRL0UAFCBFSAkG9D/kTBiOph1clh+M6h3x2ux4qK4tAdv5dPUpK2aviUP/Hd6qEChAioACECKkDIt2pTq5VvuuSt0lV8Zs9p1Gb1qp7EZ5ktgr172lHlZoFdNkhM5I0f/S653YR0TlwPFSBEQAUImZ42NavL/jZdPkv1NKFHlcV0K1IlI132UNpZnPxVe6k2u0hPm/r6659pU9WFv0f0UAFCBFSAEAEVICRSbQrgHR2XnibooQKECKgAIf8Dn9ApiCR8pDgAAAAASUVORK5CYII=\" y=\"-6.95\"/>\r\n   </g>\r\n  </g>\r\n </g>\r\n <defs>\r\n  <clipPath id=\"p83a6d4b060\">\r\n   <rect height=\"339.75\" width=\"339.75\" x=\"7.2\" y=\"7.2\"/>\r\n  </clipPath>\r\n </defs>\r\n</svg>\r\n",
      "image/png": "[encoded data removed]"
     },
     "metadata": {
      "needs_background": "light"
     }
    }
   ],
   "source": [
    "fig = plt.figure(figsize=(25/3, 6.25))\n",
    "ax = fig.add_subplot(111)\n",
    "ax.set_axis_off()\n",
    "\n",
    "X[84:90, 0:25] = WATER\n",
    "X[30:90, 19:25] = WATER\n",
    "X[30:36, 19:70] = WATER\n",
    "X[30:65, 64:70] = WATER\n",
    "X[59:65, 40:70] = WATER\n",
    "X[65:80, 40:46] = WATER\n",
    "X[74:80, 46:90] = WATER\n",
    "X[0:80, 84:90] = WATER\n",
    "\n",
    "\n",
    "im = ax.imshow(X, cmap=cmap, norm=norm)\n",
    "\n",
    "def animate(i):\n",
    "     im.set_data(animate.X)\n",
    "     animate.X = rules(animate.X)\n",
    "\n",
    "\n",
    "animate.X = X\n",
    "\n",
    "interval = 100\n",
    "anim = animation.FuncAnimation(fig, animate, interval=interval)\n",
    "\n",
    "plt.show()"
   ]
  },
  {
   "cell_type": "code",
   "execution_count": 6,
   "metadata": {},
   "outputs": [],
   "source": [
    "anim.event_source.stop()"
   ]
  },
  {
   "cell_type": "code",
   "execution_count": 7,
   "metadata": {},
   "outputs": [],
   "source": [
    "# writervideo = animation.FFMpegWriter() \n",
    "# anim.save('C://Users//ajord/Downloads//forest_fire_barrier.mp4',writer=writervideo)"
   ]
  }
 ]
}