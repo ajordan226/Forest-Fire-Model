{
 "metadata": {
  "language_info": {
   "codemirror_mode": {
    "name": "ipython",
    "version": 3
   },
   "file_extension": ".py",
   "mimetype": "text/x-python",
   "name": "python",
   "nbconvert_exporter": "python",
   "pygments_lexer": "ipython3",
   "version": "3.7.4"
  },
  "orig_nbformat": 2,
  "kernelspec": {
   "name": "python374jvsc74a57bd0dc80bb1bc61bcff7811bc2b76c764cd48e603c2d7f79fcb5f1c693fe35c61f1e",
   "display_name": "Python 3.7.4 64-bit ('base': conda)"
  }
 },
 "nbformat": 4,
 "nbformat_minor": 2,
 "cells": [
  {
   "cell_type": "code",
   "execution_count": 8,
   "metadata": {},
   "outputs": [],
   "source": [
    "import numpy as np\n",
    "import matplotlib.pyplot as plt\n",
    "from matplotlib import animation\n",
    "from matplotlib import colors\n",
    "\n",
    "%matplotlib widget"
   ]
  },
  {
   "cell_type": "code",
   "execution_count": 9,
   "metadata": {},
   "outputs": [],
   "source": [
    "neighborhood = ((-1,-1), (-1,0), (-1,1), (0,-1), (0, 1), (1,-1), (1,0), (1,1))\n",
    "\n",
    "\n",
    "# Added WATER state and blue to color list\n",
    "EMPTY, TREE, FIRE, WATER = 0, 1, 2, 3\n",
    "colors_list = [(0.2,0,0), (0,0.5,0), (1,0.3,0.1), 'orange', 'blue']\n",
    "cmap = colors.ListedColormap(colors_list)\n",
    "bounds = [0,1,2,3,4]\n",
    "norm = colors.BoundaryNorm(bounds, cmap.N)"
   ]
  },
  {
   "cell_type": "code",
   "execution_count": 10,
   "metadata": {},
   "outputs": [],
   "source": [
    "def rules(X):    \n",
    "\tX1 = np.zeros((ny, nx))    \n",
    "\tfor ix in range(1,nx-1):         \n",
    "\t\tfor iy in range(1,ny-1):\n",
    "\t\t\t# Water cells dont change            \n",
    "\t\t\tif X[iy,ix] == WATER:                 \n",
    "\t\t\t\tX1[iy,ix] = WATER            \n",
    "\t\t\tif X[iy,ix] == EMPTY and np.random.random() <= tree_growth:                 \n",
    "\t\t\t\tX1[iy,ix] = TREE            \n",
    "\t\t\tif X[iy,ix] == TREE:                 \n",
    "\t\t\t\tX1[iy,ix] = TREE                                  \n",
    "\t\t\t\tfor dx,dy in neighborhood:                     \n",
    "\t\t\t\t\tif X[iy+dy,ix+dx] == FIRE:                         \n",
    "\t\t\t\t\t\tX1[iy,ix] = FIRE                         \n",
    "\t\t\t\t\t\tbreak                 \n",
    "\t\t\t\telse:                     \n",
    "\t\t\t\t\tif np.random.random() <= lightning_strike:                         \n",
    "\t\t\t\t\t\tX1[iy,ix] = FIRE         \n",
    "\treturn X1"
   ]
  },
  {
   "cell_type": "code",
   "execution_count": 11,
   "metadata": {},
   "outputs": [],
   "source": [
    "density = 0.2\n",
    "\n",
    "tree_growth, lightning_strike = 0.05, 0.001\n",
    "\n",
    "nx, ny = 100, 100\n",
    "\n",
    "X = np.zeros((ny, nx))\n",
    "\n",
    "X[1:ny-1, 1:nx-1] = np.random.randint(0, 2, size=(ny-2, nx-2))\n",
    "X[1:ny-1, 1:nx-1] = np.random.random(size=(ny-2, nx-2)) < density"
   ]
  },
  {
   "cell_type": "code",
   "execution_count": 15,
   "metadata": {},
   "outputs": [
    {
     "output_type": "display_data",
     "data": {
      "text/plain": "FigureCanvasNbAgg()",
      "application/vnd.jupyter.widget-view+json": {
       "version_major": 2,
       "version_minor": 0,
       "model_id": "989a9e9a4989472aa576f977ceada863"
      }
     },
     "metadata": {}
    }
   ],
   "source": [
    "fig = plt.figure(figsize=(25/3, 6.25))\n",
    "ax = fig.add_subplot(111)\n",
    "ax.set_axis_off()\n",
    "\n",
    "# Define river\n",
    "X[84:90, 0:25] = WATER\n",
    "X[30:90, 19:25] = WATER\n",
    "X[30:36, 19:70] = WATER\n",
    "X[30:65, 64:70] = WATER\n",
    "X[59:65, 40:70] = WATER\n",
    "X[65:80, 40:46] = WATER\n",
    "X[74:80, 46:90] = WATER\n",
    "X[0:80, 84:90] = WATER\n",
    "\n",
    "\n",
    "im = ax.imshow(X, cmap=cmap, norm=norm)\n",
    "\n",
    "def animate(i):\n",
    "     im.set_data(animate.X)\n",
    "     animate.X = rules(animate.X)\n",
    "\n",
    "\n",
    "animate.X = X\n",
    "\n",
    "interval = 100\n",
    "anim = animation.FuncAnimation(fig, animate, interval=interval)\n",
    "\n",
    "plt.show()"
   ]
  },
  {
   "cell_type": "code",
   "execution_count": 13,
   "metadata": {},
   "outputs": [],
   "source": [
    "# anim.event_source.stop()"
   ]
  },
  {
   "cell_type": "code",
   "execution_count": 14,
   "metadata": {},
   "outputs": [],
   "source": [
    "# writervideo = animation.FFMpegWriter() \n",
    "# anim.save('C://Users//ajord/Downloads//forest_fire_barrier.mp4',writer=writervideo)"
   ]
  }
 ]
}